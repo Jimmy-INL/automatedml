{
 "cells": [
  {
   "cell_type": "markdown",
   "metadata": {},
   "source": [
    "# Microsoft Azure Automated ML Demo"
   ]
  },
  {
   "cell_type": "markdown",
   "metadata": {},
   "source": [
    "## Purpose and Challenge"
   ]
  },
  {
   "cell_type": "markdown",
   "metadata": {},
   "source": [
    "The purpose of this notebook is for the user to build and deploy a Machine Learning (ML) application using Azure Machine Learning (AML) Service which is in preview, end-2-end. The challenge we will tackle is a simple predictive maintenance solution.\n",
    "\n",
    "This notebook has the complete code to load, prep, train and deploy the model. We chose a small public data set for this demo so as to run the entire process in only few minutes. Please note that AML Service is in preview and is being updated constantly to address any issues and add new functionality. \n",
    "\n",
    "Also, this notebook has been tested using Azure Notebooks Service (preview) so as to do the demo all on Azure!!!\n",
    "\n",
    "Following are the high level steps:\n",
    "\n",
    "1. Acquire and Prepare Data\n",
    "2. Automated ML\n",
    "3. Deploy Model\n",
    "\n"
   ]
  },
  {
   "cell_type": "markdown",
   "metadata": {},
   "source": [
    "## 1. Acquire and Prepare Data\n",
    "For this notebook, we will use the NASA Prognostics Center's Turbo-Fan Failure dataset.  It is located here: https://ti.arc.nasa.gov/tech/dash/groups/pcoe/prognostic-data-repository/#turbofan"
   ]
  },
  {
   "cell_type": "markdown",
   "metadata": {},
   "source": [
    "We have it as .txt file in the same folder. We read it into a Pandas DataFrame.\n",
    "Note the headers were not in the space seperated txt file, so we assign them from the ReadMe in the zip file. In pandas we use read_csv with the delimiter option, even with a space delimited file."
   ]
  },
  {
   "cell_type": "code",
   "execution_count": 27,
   "metadata": {},
   "outputs": [],
   "source": [
    "import pandas as pd\n",
    "train = pd.read_csv(\"train_FD001.txt\", delimiter=\"\\s|\\s\\s\", index_col=False, engine='python', names=['unit','cycle','os1','os2','os3','sm1','sm2','sm3','sm4','sm5','sm6','sm7','sm8','sm9','sm10','sm11','sm12','sm13','sm14','sm15','sm16','sm17','sm18','sm19','sm20','sm21'])"
   ]
  },
  {
   "cell_type": "markdown",
   "metadata": {},
   "source": [
    "Take a quick look at the data"
   ]
  },
  {
   "cell_type": "code",
   "execution_count": 28,
   "metadata": {},
   "outputs": [
    {
     "data": {
      "text/html": [
       "<div>\n",
       "<style scoped>\n",
       "    .dataframe tbody tr th:only-of-type {\n",
       "        vertical-align: middle;\n",
       "    }\n",
       "\n",
       "    .dataframe tbody tr th {\n",
       "        vertical-align: top;\n",
       "    }\n",
       "\n",
       "    .dataframe thead th {\n",
       "        text-align: right;\n",
       "    }\n",
       "</style>\n",
       "<table border=\"1\" class=\"dataframe\">\n",
       "  <thead>\n",
       "    <tr style=\"text-align: right;\">\n",
       "      <th></th>\n",
       "      <th>unit</th>\n",
       "      <th>cycle</th>\n",
       "      <th>os1</th>\n",
       "      <th>os2</th>\n",
       "      <th>os3</th>\n",
       "      <th>sm1</th>\n",
       "      <th>sm2</th>\n",
       "      <th>sm3</th>\n",
       "      <th>sm4</th>\n",
       "      <th>sm5</th>\n",
       "      <th>...</th>\n",
       "      <th>sm12</th>\n",
       "      <th>sm13</th>\n",
       "      <th>sm14</th>\n",
       "      <th>sm15</th>\n",
       "      <th>sm16</th>\n",
       "      <th>sm17</th>\n",
       "      <th>sm18</th>\n",
       "      <th>sm19</th>\n",
       "      <th>sm20</th>\n",
       "      <th>sm21</th>\n",
       "    </tr>\n",
       "  </thead>\n",
       "  <tbody>\n",
       "    <tr>\n",
       "      <th>0</th>\n",
       "      <td>1</td>\n",
       "      <td>1</td>\n",
       "      <td>-0.00</td>\n",
       "      <td>-0.00</td>\n",
       "      <td>100.00</td>\n",
       "      <td>518.67</td>\n",
       "      <td>641.82</td>\n",
       "      <td>1589.70</td>\n",
       "      <td>1400.60</td>\n",
       "      <td>14.62</td>\n",
       "      <td>...</td>\n",
       "      <td>521.66</td>\n",
       "      <td>2388.02</td>\n",
       "      <td>8138.62</td>\n",
       "      <td>8.42</td>\n",
       "      <td>0.03</td>\n",
       "      <td>392</td>\n",
       "      <td>2388</td>\n",
       "      <td>100.00</td>\n",
       "      <td>39.06</td>\n",
       "      <td>23.42</td>\n",
       "    </tr>\n",
       "    <tr>\n",
       "      <th>1</th>\n",
       "      <td>1</td>\n",
       "      <td>2</td>\n",
       "      <td>0.00</td>\n",
       "      <td>-0.00</td>\n",
       "      <td>100.00</td>\n",
       "      <td>518.67</td>\n",
       "      <td>642.15</td>\n",
       "      <td>1591.82</td>\n",
       "      <td>1403.14</td>\n",
       "      <td>14.62</td>\n",
       "      <td>...</td>\n",
       "      <td>522.28</td>\n",
       "      <td>2388.07</td>\n",
       "      <td>8131.49</td>\n",
       "      <td>8.43</td>\n",
       "      <td>0.03</td>\n",
       "      <td>392</td>\n",
       "      <td>2388</td>\n",
       "      <td>100.00</td>\n",
       "      <td>39.00</td>\n",
       "      <td>23.42</td>\n",
       "    </tr>\n",
       "    <tr>\n",
       "      <th>2</th>\n",
       "      <td>1</td>\n",
       "      <td>3</td>\n",
       "      <td>-0.00</td>\n",
       "      <td>0.00</td>\n",
       "      <td>100.00</td>\n",
       "      <td>518.67</td>\n",
       "      <td>642.35</td>\n",
       "      <td>1587.99</td>\n",
       "      <td>1404.20</td>\n",
       "      <td>14.62</td>\n",
       "      <td>...</td>\n",
       "      <td>522.42</td>\n",
       "      <td>2388.03</td>\n",
       "      <td>8133.23</td>\n",
       "      <td>8.42</td>\n",
       "      <td>0.03</td>\n",
       "      <td>390</td>\n",
       "      <td>2388</td>\n",
       "      <td>100.00</td>\n",
       "      <td>38.95</td>\n",
       "      <td>23.34</td>\n",
       "    </tr>\n",
       "    <tr>\n",
       "      <th>3</th>\n",
       "      <td>1</td>\n",
       "      <td>4</td>\n",
       "      <td>0.00</td>\n",
       "      <td>0.00</td>\n",
       "      <td>100.00</td>\n",
       "      <td>518.67</td>\n",
       "      <td>642.35</td>\n",
       "      <td>1582.79</td>\n",
       "      <td>1401.87</td>\n",
       "      <td>14.62</td>\n",
       "      <td>...</td>\n",
       "      <td>522.86</td>\n",
       "      <td>2388.08</td>\n",
       "      <td>8133.83</td>\n",
       "      <td>8.37</td>\n",
       "      <td>0.03</td>\n",
       "      <td>392</td>\n",
       "      <td>2388</td>\n",
       "      <td>100.00</td>\n",
       "      <td>38.88</td>\n",
       "      <td>23.37</td>\n",
       "    </tr>\n",
       "    <tr>\n",
       "      <th>4</th>\n",
       "      <td>1</td>\n",
       "      <td>5</td>\n",
       "      <td>-0.00</td>\n",
       "      <td>-0.00</td>\n",
       "      <td>100.00</td>\n",
       "      <td>518.67</td>\n",
       "      <td>642.37</td>\n",
       "      <td>1582.85</td>\n",
       "      <td>1406.22</td>\n",
       "      <td>14.62</td>\n",
       "      <td>...</td>\n",
       "      <td>522.19</td>\n",
       "      <td>2388.04</td>\n",
       "      <td>8133.80</td>\n",
       "      <td>8.43</td>\n",
       "      <td>0.03</td>\n",
       "      <td>393</td>\n",
       "      <td>2388</td>\n",
       "      <td>100.00</td>\n",
       "      <td>38.90</td>\n",
       "      <td>23.40</td>\n",
       "    </tr>\n",
       "  </tbody>\n",
       "</table>\n",
       "<p>5 rows × 26 columns</p>\n",
       "</div>"
      ],
      "text/plain": [
       "   unit  cycle   os1   os2    os3    sm1    sm2     sm3     sm4   sm5  ...   \\\n",
       "0  1     1     -0.00 -0.00 100.00 518.67 641.82 1589.70 1400.60 14.62  ...    \n",
       "1  1     2     0.00  -0.00 100.00 518.67 642.15 1591.82 1403.14 14.62  ...    \n",
       "2  1     3     -0.00 0.00  100.00 518.67 642.35 1587.99 1404.20 14.62  ...    \n",
       "3  1     4     0.00  0.00  100.00 518.67 642.35 1582.79 1401.87 14.62  ...    \n",
       "4  1     5     -0.00 -0.00 100.00 518.67 642.37 1582.85 1406.22 14.62  ...    \n",
       "\n",
       "    sm12    sm13    sm14  sm15  sm16  sm17  sm18   sm19  sm20  sm21  \n",
       "0 521.66 2388.02 8138.62 8.42  0.03   392   2388 100.00 39.06 23.42  \n",
       "1 522.28 2388.07 8131.49 8.43  0.03   392   2388 100.00 39.00 23.42  \n",
       "2 522.42 2388.03 8133.23 8.42  0.03   390   2388 100.00 38.95 23.34  \n",
       "3 522.86 2388.08 8133.83 8.37  0.03   392   2388 100.00 38.88 23.37  \n",
       "4 522.19 2388.04 8133.80 8.43  0.03   393   2388 100.00 38.90 23.40  \n",
       "\n",
       "[5 rows x 26 columns]"
      ]
     },
     "execution_count": 28,
     "metadata": {},
     "output_type": "execute_result"
    }
   ],
   "source": [
    "train.head(5)"
   ]
  },
  {
   "cell_type": "markdown",
   "metadata": {},
   "source": [
    "Our dataset has a number of units in it, with each engine flight listed as a cycle. The cycles count up until the engine fails. What we would like to predict is the no. of cycles until failure. \n",
    "So we need to calculate a new column called RUL, or Remaining Useful Life.  It will be the last cycle value minus each cycle value per unit."
   ]
  },
  {
   "cell_type": "code",
   "execution_count": 29,
   "metadata": {},
   "outputs": [
    {
     "data": {
      "text/plain": [
       "Index(['unit', 'cycle', 'os1', 'os2', 'os3', 'sm1', 'sm2', 'sm3', 'sm4', 'sm5',\n",
       "       'sm6', 'sm7', 'sm8', 'sm9', 'sm10', 'sm11', 'sm12', 'sm13', 'sm14',\n",
       "       'sm15', 'sm16', 'sm17', 'sm18', 'sm19', 'sm20', 'sm21', 'rul'],\n",
       "      dtype='object')"
      ]
     },
     "execution_count": 29,
     "metadata": {},
     "output_type": "execute_result"
    }
   ],
   "source": [
    "# Assign ground truth\n",
    "def assignrul(df):\n",
    "    maxi = df['cycle'].max()\n",
    "    df['rul'] = maxi - df['cycle']\n",
    "    return df\n",
    "    \n",
    "\n",
    "train_new = train.groupby('unit').apply(assignrul)\n",
    "\n",
    "train_new.columns"
   ]
  },
  {
   "cell_type": "markdown",
   "metadata": {},
   "source": [
    "Now our dataframe has the 'RUL' column.  Predicting this value will be the objective of this exercise."
   ]
  },
  {
   "cell_type": "code",
   "execution_count": 30,
   "metadata": {},
   "outputs": [
    {
     "data": {
      "text/html": [
       "<div>\n",
       "<style scoped>\n",
       "    .dataframe tbody tr th:only-of-type {\n",
       "        vertical-align: middle;\n",
       "    }\n",
       "\n",
       "    .dataframe tbody tr th {\n",
       "        vertical-align: top;\n",
       "    }\n",
       "\n",
       "    .dataframe thead th {\n",
       "        text-align: right;\n",
       "    }\n",
       "</style>\n",
       "<table border=\"1\" class=\"dataframe\">\n",
       "  <thead>\n",
       "    <tr style=\"text-align: right;\">\n",
       "      <th></th>\n",
       "      <th>unit</th>\n",
       "      <th>cycle</th>\n",
       "      <th>os1</th>\n",
       "      <th>os2</th>\n",
       "      <th>os3</th>\n",
       "      <th>sm1</th>\n",
       "      <th>sm2</th>\n",
       "      <th>sm3</th>\n",
       "      <th>sm4</th>\n",
       "      <th>sm5</th>\n",
       "      <th>...</th>\n",
       "      <th>sm13</th>\n",
       "      <th>sm14</th>\n",
       "      <th>sm15</th>\n",
       "      <th>sm16</th>\n",
       "      <th>sm17</th>\n",
       "      <th>sm18</th>\n",
       "      <th>sm19</th>\n",
       "      <th>sm20</th>\n",
       "      <th>sm21</th>\n",
       "      <th>rul</th>\n",
       "    </tr>\n",
       "  </thead>\n",
       "  <tbody>\n",
       "    <tr>\n",
       "      <th>0</th>\n",
       "      <td>1</td>\n",
       "      <td>1</td>\n",
       "      <td>-0.00</td>\n",
       "      <td>-0.00</td>\n",
       "      <td>100.00</td>\n",
       "      <td>518.67</td>\n",
       "      <td>641.82</td>\n",
       "      <td>1589.70</td>\n",
       "      <td>1400.60</td>\n",
       "      <td>14.62</td>\n",
       "      <td>...</td>\n",
       "      <td>2388.02</td>\n",
       "      <td>8138.62</td>\n",
       "      <td>8.42</td>\n",
       "      <td>0.03</td>\n",
       "      <td>392</td>\n",
       "      <td>2388</td>\n",
       "      <td>100.00</td>\n",
       "      <td>39.06</td>\n",
       "      <td>23.42</td>\n",
       "      <td>191</td>\n",
       "    </tr>\n",
       "    <tr>\n",
       "      <th>1</th>\n",
       "      <td>1</td>\n",
       "      <td>2</td>\n",
       "      <td>0.00</td>\n",
       "      <td>-0.00</td>\n",
       "      <td>100.00</td>\n",
       "      <td>518.67</td>\n",
       "      <td>642.15</td>\n",
       "      <td>1591.82</td>\n",
       "      <td>1403.14</td>\n",
       "      <td>14.62</td>\n",
       "      <td>...</td>\n",
       "      <td>2388.07</td>\n",
       "      <td>8131.49</td>\n",
       "      <td>8.43</td>\n",
       "      <td>0.03</td>\n",
       "      <td>392</td>\n",
       "      <td>2388</td>\n",
       "      <td>100.00</td>\n",
       "      <td>39.00</td>\n",
       "      <td>23.42</td>\n",
       "      <td>190</td>\n",
       "    </tr>\n",
       "    <tr>\n",
       "      <th>2</th>\n",
       "      <td>1</td>\n",
       "      <td>3</td>\n",
       "      <td>-0.00</td>\n",
       "      <td>0.00</td>\n",
       "      <td>100.00</td>\n",
       "      <td>518.67</td>\n",
       "      <td>642.35</td>\n",
       "      <td>1587.99</td>\n",
       "      <td>1404.20</td>\n",
       "      <td>14.62</td>\n",
       "      <td>...</td>\n",
       "      <td>2388.03</td>\n",
       "      <td>8133.23</td>\n",
       "      <td>8.42</td>\n",
       "      <td>0.03</td>\n",
       "      <td>390</td>\n",
       "      <td>2388</td>\n",
       "      <td>100.00</td>\n",
       "      <td>38.95</td>\n",
       "      <td>23.34</td>\n",
       "      <td>189</td>\n",
       "    </tr>\n",
       "    <tr>\n",
       "      <th>3</th>\n",
       "      <td>1</td>\n",
       "      <td>4</td>\n",
       "      <td>0.00</td>\n",
       "      <td>0.00</td>\n",
       "      <td>100.00</td>\n",
       "      <td>518.67</td>\n",
       "      <td>642.35</td>\n",
       "      <td>1582.79</td>\n",
       "      <td>1401.87</td>\n",
       "      <td>14.62</td>\n",
       "      <td>...</td>\n",
       "      <td>2388.08</td>\n",
       "      <td>8133.83</td>\n",
       "      <td>8.37</td>\n",
       "      <td>0.03</td>\n",
       "      <td>392</td>\n",
       "      <td>2388</td>\n",
       "      <td>100.00</td>\n",
       "      <td>38.88</td>\n",
       "      <td>23.37</td>\n",
       "      <td>188</td>\n",
       "    </tr>\n",
       "    <tr>\n",
       "      <th>4</th>\n",
       "      <td>1</td>\n",
       "      <td>5</td>\n",
       "      <td>-0.00</td>\n",
       "      <td>-0.00</td>\n",
       "      <td>100.00</td>\n",
       "      <td>518.67</td>\n",
       "      <td>642.37</td>\n",
       "      <td>1582.85</td>\n",
       "      <td>1406.22</td>\n",
       "      <td>14.62</td>\n",
       "      <td>...</td>\n",
       "      <td>2388.04</td>\n",
       "      <td>8133.80</td>\n",
       "      <td>8.43</td>\n",
       "      <td>0.03</td>\n",
       "      <td>393</td>\n",
       "      <td>2388</td>\n",
       "      <td>100.00</td>\n",
       "      <td>38.90</td>\n",
       "      <td>23.40</td>\n",
       "      <td>187</td>\n",
       "    </tr>\n",
       "  </tbody>\n",
       "</table>\n",
       "<p>5 rows × 27 columns</p>\n",
       "</div>"
      ],
      "text/plain": [
       "   unit  cycle   os1   os2    os3    sm1    sm2     sm3     sm4   sm5 ...   \\\n",
       "0  1     1     -0.00 -0.00 100.00 518.67 641.82 1589.70 1400.60 14.62 ...    \n",
       "1  1     2     0.00  -0.00 100.00 518.67 642.15 1591.82 1403.14 14.62 ...    \n",
       "2  1     3     -0.00 0.00  100.00 518.67 642.35 1587.99 1404.20 14.62 ...    \n",
       "3  1     4     0.00  0.00  100.00 518.67 642.35 1582.79 1401.87 14.62 ...    \n",
       "4  1     5     -0.00 -0.00 100.00 518.67 642.37 1582.85 1406.22 14.62 ...    \n",
       "\n",
       "     sm13    sm14  sm15  sm16  sm17  sm18   sm19  sm20  sm21  rul  \n",
       "0 2388.02 8138.62 8.42  0.03   392   2388 100.00 39.06 23.42  191  \n",
       "1 2388.07 8131.49 8.43  0.03   392   2388 100.00 39.00 23.42  190  \n",
       "2 2388.03 8133.23 8.42  0.03   390   2388 100.00 38.95 23.34  189  \n",
       "3 2388.08 8133.83 8.37  0.03   392   2388 100.00 38.88 23.37  188  \n",
       "4 2388.04 8133.80 8.43  0.03   393   2388 100.00 38.90 23.40  187  \n",
       "\n",
       "[5 rows x 27 columns]"
      ]
     },
     "execution_count": 30,
     "metadata": {},
     "output_type": "execute_result"
    }
   ],
   "source": [
    "train_new.head(5)"
   ]
  },
  {
   "cell_type": "markdown",
   "metadata": {},
   "source": [
    "First note that the sensor measurements do seem to be changing as we near 0 RUL. This implies that we should be able to make a model that will be useful enough for business value.\n",
    "\n",
    "We are now ready to train a model on this data using Automated ML."
   ]
  },
  {
   "cell_type": "markdown",
   "metadata": {},
   "source": [
    "## 3. automated ML"
   ]
  },
  {
   "cell_type": "markdown",
   "metadata": {},
   "source": [
    "Here we utilize Azure's AutoML package to automate the scaling of the sensors, selection of sensors, and automatically train and evaluate many different types of ML models."
   ]
  },
  {
   "cell_type": "markdown",
   "metadata": {},
   "source": [
    "Import Azure ML libs for automated ML"
   ]
  },
  {
   "cell_type": "code",
   "execution_count": 31,
   "metadata": {},
   "outputs": [],
   "source": [
    "import logging\n",
    "import os\n",
    "import random\n",
    "import time\n",
    "\n",
    "from matplotlib import pyplot as plt\n",
    "from matplotlib.pyplot import imshow\n",
    "import numpy as np\n",
    "import pandas as pd\n",
    "\n",
    "import azureml.core\n",
    "from azureml.core.experiment import Experiment\n",
    "from azureml.core.workspace import Workspace\n",
    "from azureml.train.automl import AutoMLConfig\n",
    "from azureml.train.automl.run import AutoMLRun\n",
    "from azureml.widgets import RunDetails\n",
    "from azureml.core.model import Model"
   ]
  },
  {
   "cell_type": "markdown",
   "metadata": {},
   "source": [
    "Provide your Machine Learning Workspace credentials to run AutoML. You will need to perform Microsoft's MFA. Please follow the manual auth instructions."
   ]
  },
  {
   "cell_type": "code",
   "execution_count": 32,
   "metadata": {},
   "outputs": [],
   "source": [
    "subscription_id = \"<Your SubscriptionId>\" #you should be owner or contributor\n",
    "resource_group = \"<Resource group - new or existing>\" #you should be owner or contributor\n",
    "workspace_name = \"<workspace to be created>\" #your workspace name\n",
    "workspace_region = \"<azureregion>\" #your region\n",
    "\n",
    "#Example here, use your own\n",
    "subscription_id = \"381b38e9-9840-4719-a5a0-61d9585e1e91\" #you should be owner or contributor\n",
    "resource_group = \"automl_nasa_newrg\" #you should be owner or contributor\n",
    "workspace_name = \"automatedml_nasa_aznb\" #your workspace name\n",
    "workspace_region = \"eastus2\" #your region"
   ]
  },
  {
   "cell_type": "markdown",
   "metadata": {},
   "source": [
    "Create Azure ML workspace"
   ]
  },
  {
   "cell_type": "code",
   "execution_count": 33,
   "metadata": {},
   "outputs": [
    {
     "data": {
      "text/plain": [
       "{'id': '/subscriptions/381b38e9-9840-4719-a5a0-61d9585e1e91/resourceGroups/automl_nasa_newrg/providers/Microsoft.MachineLearningServices/workspaces/automatedml_nasa_aznb',\n",
       " 'name': 'automatedml_nasa_aznb',\n",
       " 'location': 'eastus2',\n",
       " 'type': 'Microsoft.MachineLearningServices/workspaces',\n",
       " 'workspaceid': 'aae506f4-9885-4d92-8297-ffcf91e83402',\n",
       " 'description': '',\n",
       " 'friendlyName': 'automatedml_nasa_aznb',\n",
       " 'creationTime': '2019-04-26T06:54:27.1993237+00:00',\n",
       " 'containerRegistry': '/subscriptions/381b38e9-9840-4719-a5a0-61d9585e1e91/resourcegroups/automl_nasa_newrg/providers/microsoft.containerregistry/registries/automateacrcaxieqcx',\n",
       " 'keyVault': '/subscriptions/381b38e9-9840-4719-a5a0-61d9585e1e91/resourcegroups/automl_nasa_newrg/providers/microsoft.keyvault/vaults/automatekeyvaultrjduvlop',\n",
       " 'applicationInsights': '/subscriptions/381b38e9-9840-4719-a5a0-61d9585e1e91/resourcegroups/automl_nasa_newrg/providers/microsoft.insights/components/automateinsightsubtvmnup',\n",
       " 'identityPrincipalId': '0e4c5559-ded2-4057-bec9-2f516710a3ec',\n",
       " 'identityTenantId': '72f988bf-86f1-41af-91ab-2d7cd011db47',\n",
       " 'identityType': 'SystemAssigned',\n",
       " 'storageAccount': '/subscriptions/381b38e9-9840-4719-a5a0-61d9585e1e91/resourcegroups/automl_nasa_newrg/providers/microsoft.storage/storageaccounts/automatestorageqqvfsuuo'}"
      ]
     },
     "execution_count": 33,
     "metadata": {},
     "output_type": "execute_result"
    }
   ],
   "source": [
    "# Import the Workspace class and check the Azure ML SDK version.\n",
    "from azureml.core import Workspace\n",
    "\n",
    "ws = Workspace.create(name = workspace_name,\n",
    "                      subscription_id = subscription_id,\n",
    "                      resource_group = resource_group, \n",
    "                      location = workspace_region,                      \n",
    "                      exist_ok=True)\n",
    "ws.get_details()"
   ]
  },
  {
   "cell_type": "markdown",
   "metadata": {},
   "source": [
    "Write config to cluster"
   ]
  },
  {
   "cell_type": "code",
   "execution_count": 34,
   "metadata": {},
   "outputs": [
    {
     "name": "stdout",
     "output_type": "stream",
     "text": [
      "Wrote the config file config.json to: C:\\automl-setup-326\\how-to-use-azureml\\automated-machine-learning\\aml_config\\config.json\n"
     ]
    }
   ],
   "source": [
    "from azureml.core import Workspace\n",
    "\n",
    "ws = Workspace(workspace_name = workspace_name,\n",
    "               subscription_id = subscription_id,\n",
    "               resource_group = resource_group)\n",
    "\n",
    "# Persist the subscription id, resource group name, and workspace name in aml_config/config.json.\n",
    "ws.write_config()"
   ]
  },
  {
   "cell_type": "markdown",
   "metadata": {},
   "source": [
    "Define the experiment name"
   ]
  },
  {
   "cell_type": "code",
   "execution_count": 35,
   "metadata": {},
   "outputs": [
    {
     "data": {
      "text/html": [
       "<div>\n",
       "<style scoped>\n",
       "    .dataframe tbody tr th:only-of-type {\n",
       "        vertical-align: middle;\n",
       "    }\n",
       "\n",
       "    .dataframe tbody tr th {\n",
       "        vertical-align: top;\n",
       "    }\n",
       "\n",
       "    .dataframe thead th {\n",
       "        text-align: right;\n",
       "    }\n",
       "</style>\n",
       "<table border=\"1\" class=\"dataframe\">\n",
       "  <thead>\n",
       "    <tr style=\"text-align: right;\">\n",
       "      <th></th>\n",
       "      <th></th>\n",
       "    </tr>\n",
       "  </thead>\n",
       "  <tbody>\n",
       "    <tr>\n",
       "      <th>Experiment Name</th>\n",
       "      <td>automl-predictive-rul</td>\n",
       "    </tr>\n",
       "    <tr>\n",
       "      <th>Location</th>\n",
       "      <td>eastus2</td>\n",
       "    </tr>\n",
       "    <tr>\n",
       "      <th>Project Directory</th>\n",
       "      <td>./sample_projects/automl-demo-predmain</td>\n",
       "    </tr>\n",
       "    <tr>\n",
       "      <th>Resource Group</th>\n",
       "      <td>automl_nasa_newrg</td>\n",
       "    </tr>\n",
       "    <tr>\n",
       "      <th>SDK version</th>\n",
       "      <td>1.0.21</td>\n",
       "    </tr>\n",
       "    <tr>\n",
       "      <th>Subscription ID</th>\n",
       "      <td>381b38e9-9840-4719-a5a0-61d9585e1e91</td>\n",
       "    </tr>\n",
       "    <tr>\n",
       "      <th>Workspace Name</th>\n",
       "      <td>automatedml_nasa_aznb</td>\n",
       "    </tr>\n",
       "  </tbody>\n",
       "</table>\n",
       "</div>"
      ],
      "text/plain": [
       "                                                         \n",
       "Experiment Name    automl-predictive-rul                 \n",
       "Location           eastus2                               \n",
       "Project Directory  ./sample_projects/automl-demo-predmain\n",
       "Resource Group     automl_nasa_newrg                     \n",
       "SDK version        1.0.21                                \n",
       "Subscription ID    381b38e9-9840-4719-a5a0-61d9585e1e91  \n",
       "Workspace Name     automatedml_nasa_aznb                 "
      ]
     },
     "execution_count": 35,
     "metadata": {},
     "output_type": "execute_result"
    }
   ],
   "source": [
    "# Choose a name for the experiment and specify the project folder.\n",
    "experiment_name = 'automl-predictive-rul'\n",
    "project_folder = './sample_projects/automl-demo-predmain'\n",
    "\n",
    "experiment = Experiment(ws, experiment_name)\n",
    "\n",
    "output = {}\n",
    "output['SDK version'] = azureml.core.VERSION\n",
    "output['Subscription ID'] = ws.subscription_id\n",
    "output['Workspace Name'] = ws.name\n",
    "output['Resource Group'] = ws.resource_group\n",
    "output['Location'] = ws.location\n",
    "output['Project Directory'] = project_folder\n",
    "output['Experiment Name'] = experiment.name\n",
    "pd.set_option('display.max_colwidth', -1)\n",
    "pd.DataFrame(data = output, index = ['']).T"
   ]
  },
  {
   "cell_type": "markdown",
   "metadata": {},
   "source": [
    "Create training data"
   ]
  },
  {
   "cell_type": "code",
   "execution_count": 36,
   "metadata": {},
   "outputs": [],
   "source": [
    "# put training data into X and Y arrays\n",
    "X_train = train_new.iloc[:,2:26].values\n",
    "y_train = train_new.iloc[:,26:27].values.astype(int).flatten()"
   ]
  },
  {
   "cell_type": "markdown",
   "metadata": {},
   "source": [
    "Format data into arrays that AutoML will use to train models.  Below is one row of X and Y as an example."
   ]
  },
  {
   "cell_type": "code",
   "execution_count": 37,
   "metadata": {},
   "outputs": [
    {
     "data": {
      "text/plain": [
       "array([-7.00000e-04, -4.00000e-04,  1.00000e+02,  5.18670e+02,\n",
       "        6.41820e+02,  1.58970e+03,  1.40060e+03,  1.46200e+01,\n",
       "        2.16100e+01,  5.54360e+02,  2.38806e+03,  9.04619e+03,\n",
       "        1.30000e+00,  4.74700e+01,  5.21660e+02,  2.38802e+03,\n",
       "        8.13862e+03,  8.41950e+00,  3.00000e-02,  3.92000e+02,\n",
       "        2.38800e+03,  1.00000e+02,  3.90600e+01,  2.34190e+01])"
      ]
     },
     "execution_count": 37,
     "metadata": {},
     "output_type": "execute_result"
    }
   ],
   "source": [
    "X_train[0]"
   ]
  },
  {
   "cell_type": "code",
   "execution_count": 38,
   "metadata": {},
   "outputs": [
    {
     "data": {
      "text/plain": [
       "191"
      ]
     },
     "execution_count": 38,
     "metadata": {},
     "output_type": "execute_result"
    }
   ],
   "source": [
    "y_train[0]"
   ]
  },
  {
   "cell_type": "code",
   "execution_count": 39,
   "metadata": {},
   "outputs": [],
   "source": [
    "from sklearn.model_selection import train_test_split\n",
    "X_train, X_valid, y_train, y_valid = train_test_split(X_train,\n",
    "                                                    y_train,\n",
    "                                                    test_size=0.3,\n",
    "                                                    random_state=100)\n",
    "\n",
    "X_valid, X_test, y_valid, y_test = train_test_split(X_valid,\n",
    "                                                    y_valid,\n",
    "                                                    test_size=0.3,\n",
    "                                                    random_state=100)\n",
    "\n",
    "X_train = pd.DataFrame(X_train)\n",
    "X_valid = pd.DataFrame(X_valid)\n",
    "X_test = pd.DataFrame(X_test)"
   ]
  },
  {
   "cell_type": "code",
   "execution_count": 40,
   "metadata": {},
   "outputs": [
    {
     "data": {
      "text/html": [
       "[[-0.0014, 0.0004, 100.0, 518.67, 642.93, 1592.39, 1407.61, 14.62, 21.61, 553.5, 2388.12, 9059.72, 1.3, 47.65, 521.36, 2388.08, 8133.52, 8.4613, 0.03, 393.0, 2388.0, 100.0, 38.6, 23.3778]]"
      ],
      "text/plain": [
       "[[-0.0014,\n",
       "  0.0004,\n",
       "  100.0,\n",
       "  518.67,\n",
       "  642.93,\n",
       "  1592.39,\n",
       "  1407.61,\n",
       "  14.62,\n",
       "  21.61,\n",
       "  553.5,\n",
       "  2388.12,\n",
       "  9059.72,\n",
       "  1.3,\n",
       "  47.65,\n",
       "  521.36,\n",
       "  2388.08,\n",
       "  8133.52,\n",
       "  8.4613,\n",
       "  0.03,\n",
       "  393.0,\n",
       "  2388.0,\n",
       "  100.0,\n",
       "  38.6,\n",
       "  23.3778]]"
      ]
     },
     "execution_count": 40,
     "metadata": {},
     "output_type": "execute_result"
    }
   ],
   "source": [
    "X_test[0:1].values.tolist()"
   ]
  },
  {
   "cell_type": "markdown",
   "metadata": {},
   "source": [
    "Enable Telemetry"
   ]
  },
  {
   "cell_type": "code",
   "execution_count": 41,
   "metadata": {},
   "outputs": [
    {
     "name": "stdout",
     "output_type": "stream",
     "text": [
      "Turning diagnostics collection on. \n"
     ]
    }
   ],
   "source": [
    "from azureml.telemetry import set_diagnostics_collection\n",
    "set_diagnostics_collection(send_diagnostics = True)"
   ]
  },
  {
   "cell_type": "markdown",
   "metadata": {},
   "source": [
    "Now we are ready to configure automated ML.  We provide necessary information on: what we want to predict, what accuracy metric we want to use, how many models we want to try, and many other parameters.  AutoML will also automatically scale the data for us."
   ]
  },
  {
   "cell_type": "markdown",
   "metadata": {},
   "source": [
    "## Configure Automated ML\n",
    "\n",
    "You can use these params.\n",
    "\n",
    "|Property|Description|\n",
    "|-|-|\n",
    "|**task**|classification or regression|\n",
    "|**primary_metric**|This is the metric that you want to optimize. Classification supports the following primary metrics: <br><i>accuracy</i><br><i>AUC_weighted</i><br><i>average_precision_score_weighted</i><br><i>norm_macro_recall</i><br><i>precision_score_weighted</i>|\n",
    "|**primary_metric**|This is the metric that you want to optimize. Regression supports the following primary metrics: <br><i>spearman_correlation</i><br><i>normalized_root_mean_squared_error</i><br><i>r2_score</i><br><i>normalized_mean_absolute_error</i>|\n",
    "|**iteration_timeout_minutes**|Time limit in minutes for each iteration.|\n",
    "|**iterations**|Number of iterations. In each iteration AutoML trains a specific pipeline with the data.|\n",
    "|**n_cross_validations**|Number of cross validation splits.|\n",
    "|**X**|(sparse) array-like, shape = [n_samples, n_features]|\n",
    "|**y**|(sparse) array-like, shape = [n_samples, ], [n_samples, n_classes]<br>Multi-class targets. An indicator matrix turns on multilabel classification. This should be an array of integers.|\n",
    "|**path**|Relative path to the project folder. AutoML stores configuration files for the experiment under this folder. You can specify a new empty folder.|\n",
    "|**preprocess**|set this to True to enable pre-processing of data eg. string to numeric using one-hot encoding|\n",
    "|**exit_score**|Target score for experiment. It is associated with the metric. eg. exit_score=0.995 will exit experiment after that|"
   ]
  },
  {
   "cell_type": "code",
   "execution_count": 42,
   "metadata": {},
   "outputs": [],
   "source": [
    "##Local compute \n",
    "Automl_config = AutoMLConfig(task = 'regression',\n",
    "                             primary_metric = 'r2_score',\n",
    "                             iteration_timeout_minutes = 5,\n",
    "                             iterations = 3,\n",
    "                             max_cores_per_iteration = 1,\n",
    "                             preprocess = False,\n",
    "                             experiment_exit_score = 0.985,\n",
    "                             #blacklist_models = ['kNN','LinearSVM','RandomForestRegressor'],\n",
    "                             whitelist_models = ['ExtremeRandomTrees','ElasticNet','LightGBM'],\n",
    "                             X = X_train,\n",
    "                             y = y_train,\n",
    "                             X_valid = X_valid,\n",
    "                             y_valid = y_valid,\n",
    "                             #n_cross_validations = 3,\n",
    "                             debug_log = 'automl_errors.log',\n",
    "                             verbosity=logging.ERROR,\n",
    "                             #model_explainability=True,\n",
    "                             path=project_folder)"
   ]
  },
  {
   "cell_type": "markdown",
   "metadata": {},
   "source": [
    "Finally we are ready to launch AutoML.  This step can take many minutes, but AutoML will give you updates as models are trained and evaluated by the metric we specified above.  AutoML also let us know which scaling method was used.  The information from each ML model training will be stored in the Experiment section of the ML Workspace, where we can review it through Azure Portal."
   ]
  },
  {
   "cell_type": "code",
   "execution_count": 43,
   "metadata": {},
   "outputs": [
    {
     "name": "stdout",
     "output_type": "stream",
     "text": [
      "Running on local machine\n",
      "Parent Run ID: AutoML_aac4e681-0c00-4cf6-a6fb-553a2caa3703\n",
      "********************************************************************************************************************\n",
      "ITERATION: The iteration being evaluated.\n",
      "PIPELINE: A summary description of the pipeline being evaluated.\n",
      "SAMPLING %: Percent of the training data to sample.\n",
      "DURATION: Time taken for the current iteration.\n",
      "METRIC: The result of computing score on the fitted pipeline.\n",
      "BEST: The best observed score thus far.\n",
      "********************************************************************************************************************\n",
      "\n",
      " ITERATION   PIPELINE                                       SAMPLING %  DURATION      METRIC      BEST\n",
      "         0   C extension was not built during install!\n",
      "StandardScalerWrapper LightGBM                 100.0000    0:00:24       0.6113    0.6113\n",
      "         1   C extension was not built during install!\n",
      "MaxAbsScaler LightGBM                          100.0000    0:00:27       0.6091    0.6113\n",
      "         2   Finished loading model, total used 400 iterations\n",
      "Finished loading model, total used 800 iterations\n",
      "Finished loading model, total used 400 iterations\n",
      "Finished loading model, total used 800 iterations\n",
      "C extension was not built during install!\n",
      "Ensemble                                       100.0000    0:00:54       0.6192    0.6192\n"
     ]
    }
   ],
   "source": [
    "# Train multiple models using AutoML\n",
    "experiment=Experiment(ws, experiment_name)\n",
    "local_run = experiment.submit(Automl_config, show_output=True)"
   ]
  },
  {
   "cell_type": "markdown",
   "metadata": {},
   "source": [
    "Widget UX"
   ]
  },
  {
   "cell_type": "code",
   "execution_count": 44,
   "metadata": {},
   "outputs": [
    {
     "data": {
      "application/vnd.jupyter.widget-view+json": {
       "model_id": "b215071c0d81448eb9f4bfc9dde4ca44",
       "version_major": 2,
       "version_minor": 0
      },
      "text/plain": [
       "_AutoMLWidget(widget_settings={'childWidgetDisplay': 'popup', 'send_telemetry': True, 'log_level': 'INFO', 'sd…"
      ]
     },
     "metadata": {},
     "output_type": "display_data"
    }
   ],
   "source": [
    "RunDetails(local_run).show()"
   ]
  },
  {
   "cell_type": "markdown",
   "metadata": {},
   "source": [
    "We now get the best model"
   ]
  },
  {
   "cell_type": "code",
   "execution_count": 45,
   "metadata": {},
   "outputs": [
    {
     "name": "stdout",
     "output_type": "stream",
     "text": [
      "Run(Experiment: automl-predictive-rul,\n",
      "Id: AutoML_aac4e681-0c00-4cf6-a6fb-553a2caa3703_2,\n",
      "Type: None,\n",
      "Status: Completed)\n"
     ]
    }
   ],
   "source": [
    "# find the run with the highest accuracy value.\n",
    "best_run, fitted_model = local_run.get_output()\n",
    "print(best_run)"
   ]
  },
  {
   "cell_type": "markdown",
   "metadata": {},
   "source": [
    "## 3. Deploy Model"
   ]
  },
  {
   "cell_type": "code",
   "execution_count": 46,
   "metadata": {},
   "outputs": [
    {
     "name": "stdout",
     "output_type": "stream",
     "text": [
      "Registering model AutoMLaac4e6810best\n",
      "AutoMLaac4e6810best\n"
     ]
    }
   ],
   "source": [
    "# register best model in workspace\n",
    "description = 'AutoML-RUL-Regression-20190426'\n",
    "tags = None\n",
    "model = local_run.register_model(description = description, tags = tags)\n",
    "\n",
    "print(local_run.model_id) # This will be written to the script file later in the notebook."
   ]
  },
  {
   "cell_type": "markdown",
   "metadata": {},
   "source": [
    "After we register the model in our ML Workspace, it should be visible in Azure Portal.\n",
    "\n",
    "Now we want to deploy the model as a REST API that we can feed a row or rows of \"X\" data to, and return the predicted 'RUL' value.  To accomplish this, we will build a container image in our AML Workspace and deploy that image as a Container instance in Azure's ACI service.  We will then obtain an IP address where we can submit data and receive back the predicted 'RUL' value.\n",
    "\n",
    "There are 3 things we need: \n",
    "1. A score.py file that contains the init() and run() functions with instructions on how to load and socre with the model\n",
    "2. A myenv.yml file that contains information on the python environment in which the model needs to run\n",
    "3. Configurations for our images and our services, using functions provided by AzureML service.\n",
    "\n",
    "The cells below help you set these up.   You will need to use the registered model name provided by the cell above."
   ]
  },
  {
   "cell_type": "code",
   "execution_count": 47,
   "metadata": {},
   "outputs": [
    {
     "name": "stdout",
     "output_type": "stream",
     "text": [
      "Overwriting score.py\n"
     ]
    }
   ],
   "source": [
    "%%writefile score.py\n",
    "import pickle\n",
    "import json\n",
    "import numpy\n",
    "import azureml.train.automl\n",
    "from sklearn.externals import joblib\n",
    "from azureml.core.model import Model\n",
    "\n",
    "\n",
    "def init():\n",
    "    global model\n",
    "    model_path = Model.get_model_path(model_name = '<<modelid>>') # this name is model.id of model that we want to deploy\n",
    "    # deserialize the model file back into a sklearn model\n",
    "    model = joblib.load(model_path)\n",
    "\n",
    "def run(rawdata):\n",
    "    try:\n",
    "        data = json.loads(rawdata)['data']\n",
    "        data = numpy.array(data)\n",
    "        result = model.predict(data)\n",
    "    except Exception as e:\n",
    "        result = str(e)\n",
    "        return json.dumps({\"error\": result})\n",
    "    return json.dumps({\"result\":result.tolist()})"
   ]
  },
  {
   "cell_type": "code",
   "execution_count": 48,
   "metadata": {},
   "outputs": [
    {
     "name": "stdout",
     "output_type": "stream",
     "text": [
      "No issues found in the SDK package versions.\n",
      "azureml-train-automl\t1.0.21\n",
      "azureml-sdk\t1.0.21\n",
      "azureml-core\t1.0.21\n"
     ]
    }
   ],
   "source": [
    "experiment = Experiment(ws, experiment_name)\n",
    "ml_run = AutoMLRun(experiment = experiment, run_id = local_run.id)\n",
    "dependencies = ml_run.get_run_sdk_dependencies(iteration = 0)\n",
    "for p in ['azureml-train-automl', 'azureml-sdk', 'azureml-core']:\n",
    "    print('{}\\t{}'.format(p, dependencies[p]))"
   ]
  },
  {
   "cell_type": "code",
   "execution_count": 49,
   "metadata": {},
   "outputs": [
    {
     "data": {
      "text/plain": [
       "'myenv.yml'"
      ]
     },
     "execution_count": 49,
     "metadata": {},
     "output_type": "execute_result"
    }
   ],
   "source": [
    "from azureml.core.conda_dependencies import CondaDependencies\n",
    "\n",
    "myenv = CondaDependencies.create(conda_packages=['numpy','scikit-learn','lightgbm'], pip_packages=['azureml-sdk[automl]'])\n",
    "\n",
    "conda_env_file_name = 'myenv.yml'\n",
    "myenv.save_to_file('.', conda_env_file_name)"
   ]
  },
  {
   "cell_type": "code",
   "execution_count": 50,
   "metadata": {},
   "outputs": [],
   "source": [
    "# Substitute the actual version number in the environment file.\n",
    "# This is not strictly needed in this notebook because the model should have been generated using the current SDK version.\n",
    "# However, we include this in case this code is used on an experiment from a previous SDK version.\n",
    "\n",
    "with open(conda_env_file_name, 'r') as cefr:\n",
    "    content = cefr.read()\n",
    "\n",
    "with open(conda_env_file_name, 'w') as cefw:\n",
    "    cefw.write(content.replace(azureml.core.VERSION, dependencies['azureml-sdk']))\n",
    "\n",
    "# Substitute the actual model id in the script file.\n",
    "\n",
    "script_file_name = 'score.py'\n",
    "\n",
    "with open(script_file_name, 'r') as cefr:\n",
    "    content = cefr.read()\n",
    "\n",
    "with open(script_file_name, 'w') as cefw:\n",
    "    cefw.write(content.replace('<<modelid>>', local_run.model_id))"
   ]
  },
  {
   "cell_type": "markdown",
   "metadata": {},
   "source": [
    "*If the above file does not show \"- azureml-train-automl\" in the pip section, the you need to add it manually*\n",
    "\n",
    "Now configure the webservice."
   ]
  },
  {
   "cell_type": "markdown",
   "metadata": {},
   "source": [
    "Finally, configure the container image and deploy the service. Make sure the filenames match, your Workspace is in variable ws, and your model name is correct. It will create your containter image and deploy it as a webservice.\n",
    "\n",
    "This process can take up to 10 minutes, so please be patient. You can check the progress bar periodically ..."
   ]
  },
  {
   "cell_type": "code",
   "execution_count": 51,
   "metadata": {},
   "outputs": [
    {
     "name": "stdout",
     "output_type": "stream",
     "text": [
      "Creating image\n",
      "Running................................................\n",
      "SucceededImage creation operation finished for image automlpredmaintimage:2, operation \"Succeeded\"\n"
     ]
    }
   ],
   "source": [
    "from azureml.core.image import Image, ContainerImage\n",
    "\n",
    "image_config = ContainerImage.image_configuration(runtime= \"python\",\n",
    "                                 execution_script = script_file_name,\n",
    "                                 conda_file = conda_env_file_name,\n",
    "                                 tags = {'area': \"pred maint\", 'type': \"automl_regression\"},\n",
    "                                 description = \"Image for automl predictive maintenance NASA\")\n",
    "\n",
    "image = Image.create(name = \"automlpredmaintimage\",\n",
    "                     # this is the model object \n",
    "                     models = [model],\n",
    "                     image_config = image_config, \n",
    "                     workspace = ws)\n",
    "\n",
    "image.wait_for_creation(show_output = True)\n",
    "\n",
    "if image.creation_state == 'Failed':\n",
    "    print(\"Image build log at: \" + image.image_build_log_uri)"
   ]
  },
  {
   "cell_type": "code",
   "execution_count": 52,
   "metadata": {},
   "outputs": [],
   "source": [
    "from azureml.core.webservice import AciWebservice\n",
    "\n",
    "aciconfig = AciWebservice.deploy_configuration(cpu_cores=1, \n",
    "                                               memory_gb=1, \n",
    "                                               tags={\"data\": \"RUL\",  \"method\" : \"sklearn\"}, \n",
    "                                               description='Predict RUL with Azure AutoML')"
   ]
  },
  {
   "cell_type": "code",
   "execution_count": 53,
   "metadata": {
    "scrolled": true
   },
   "outputs": [
    {
     "name": "stdout",
     "output_type": "stream",
     "text": [
      "automl-sample-01\n",
      "Creating service\n",
      "Running........................\n",
      "SucceededACI service creation operation finished, operation \"Succeeded\"\n",
      "Healthy\n"
     ]
    }
   ],
   "source": [
    "from azureml.core.webservice import Webservice\n",
    "\n",
    "aci_service_name = 'automl-pred-maint'\n",
    "print(aci_service_name)\n",
    "aci_service = Webservice.deploy_from_image(deployment_config = aciconfig,\n",
    "                                           image = image,\n",
    "                                           name = aci_service_name,\n",
    "                                           workspace = ws)\n",
    "aci_service.wait_for_deployment(True)\n",
    "print(aci_service.state)"
   ]
  },
  {
   "cell_type": "markdown",
   "metadata": {},
   "source": [
    "Just as a check, we can retrieve the URI for the scoring function."
   ]
  },
  {
   "cell_type": "code",
   "execution_count": 55,
   "metadata": {},
   "outputs": [
    {
     "name": "stdout",
     "output_type": "stream",
     "text": [
      "http://52.190.30.4:80/score\n"
     ]
    }
   ],
   "source": [
    "print(aci_service.scoring_uri)"
   ]
  },
  {
   "cell_type": "markdown",
   "metadata": {},
   "source": [
    "Let's check to see if the service is working.  Here we submit a single row of data from X_train to see if it returns a reasonable prediction."
   ]
  },
  {
   "cell_type": "code",
   "execution_count": null,
   "metadata": {},
   "outputs": [],
   "source": [
    "import requests\n",
    "import json\n",
    "\n",
    "# send a random row from the test set to score\n",
    "#random_index = np.random.randint(0, len(X_train)-1)\n",
    "input_data = \"{\\\"data\\\": \" + str(X_test[1:2].values.tolist()) + \"}\" #str(list(X_train[0].reshape(1,-1)[0])) + \"}\"\n",
    "\n",
    "headers = {'Content-Type':'application/json'}\n",
    "\n",
    "# for AKS deployment you'd need to the service key in the header as well\n",
    "# api_key = service.get_key()\n",
    "# headers = {'Content-Type':'application/json',  'Authorization':('Bearer '+ api_key)} \n",
    "\n",
    "resp = requests.post(aci_service.scoring_uri, input_data, headers=headers)\n",
    "\n",
    "print(\"POST to url\", aci_service.scoring_uri)\n",
    "print(\"input data:\", input_data)\n",
    "print(\"label:\", y_test[1:2])\n",
    "print(\"prediction:\", resp.text)"
   ]
  },
  {
   "cell_type": "markdown",
   "metadata": {},
   "source": [
    "Here we see one engine evolving through many flights, or cycles.  As we approach failure, the rul declines to zero, as does the prediction.  This is a good example of how the predictive model can assist in estimate the future failure of the engine.\n",
    "\n",
    "Note that the model does not perform well at high rul.  This is an acceptable outcome as the engine is far from failure."
   ]
  },
  {
   "cell_type": "markdown",
   "metadata": {},
   "source": [
    "To avoid any run-away Azure costs, we always delete un-necessary services when we are done."
   ]
  },
  {
   "cell_type": "code",
   "execution_count": null,
   "metadata": {},
   "outputs": [],
   "source": [
    "aci_service.delete()"
   ]
  }
 ],
 "metadata": {
  "kernelspec": {
   "display_name": "Python (env326)",
   "language": "python",
   "name": "env326"
  },
  "language_info": {
   "codemirror_mode": {
    "name": "ipython",
    "version": 3
   },
   "file_extension": ".py",
   "mimetype": "text/x-python",
   "name": "python",
   "nbconvert_exporter": "python",
   "pygments_lexer": "ipython3",
   "version": "3.6.7"
  }
 },
 "nbformat": 4,
 "nbformat_minor": 2
}
